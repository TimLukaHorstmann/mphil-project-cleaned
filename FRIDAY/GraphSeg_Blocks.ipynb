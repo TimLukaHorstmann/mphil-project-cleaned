{
 "cells": [
  {
   "cell_type": "markdown",
   "metadata": {},
   "source": [
    "# GraphSeg and Blocks model\n",
    "- Learning how to classifiy blocks as relevant\n",
    "- Using Graphseg or PyMuPDF blocks\n",
    "\n",
    "Refer to Section 5.1 of report for more details"
   ]
  },
  {
   "cell_type": "markdown",
   "metadata": {},
   "source": [
    "### Import libraries"
   ]
  },
  {
   "cell_type": "code",
   "execution_count": 1,
   "metadata": {},
   "outputs": [
    {
     "name": "stderr",
     "output_type": "stream",
     "text": [
      "2024-05-28 08:26:13.157311: I tensorflow/core/platform/cpu_feature_guard.cc:210] This TensorFlow binary is optimized to use available CPU instructions in performance-critical operations.\n",
      "To enable the following instructions: AVX2 FMA, in other operations, rebuild TensorFlow with the appropriate compiler flags.\n",
      "2024-05-28 08:26:14.220797: W tensorflow/compiler/tf2tensorrt/utils/py_utils.cc:38] TF-TRT Warning: Could not find TensorRT\n"
     ]
    }
   ],
   "source": [
    "import os\n",
    "os.environ[\"TOKENIZERS_PARALLELISM\"] = \"false\"\n",
    "\n",
    "import sys\n",
    "from collections import defaultdict\n",
    "import subprocess\n",
    "import shutil\n",
    "import tempfile\n",
    "from multiprocessing import Pool, Manager\n",
    "import matplotlib.pyplot as plt\n",
    "\n",
    "# Preprocessing\n",
    "sys.path.append('../DataPreprocessing')\n",
    "sys.path.append('../DataAnalysis')\n",
    "from read_into_dicts import DocReader\n",
    "\n",
    "# Model\n",
    "import torch\n",
    "from torch.utils.data import Dataset, random_split, Subset\n",
    "from transformers import AutoTokenizer, AutoModelForSequenceClassification, Trainer, TrainingArguments, EarlyStoppingCallback\n",
    "\n",
    "# WANDB\n",
    "import wandb\n",
    "from tqdm.notebook import tqdm\n",
    "import random\n",
    "import string\n",
    "\n",
    "\n",
    "import yaml\n",
    "import pickle\n",
    "import json"
   ]
  },
  {
   "cell_type": "markdown",
   "metadata": {},
   "source": [
    "#### Config"
   ]
  },
  {
   "cell_type": "code",
   "execution_count": 26,
   "metadata": {},
   "outputs": [
    {
     "name": "stdout",
     "output_type": "stream",
     "text": [
      "DOMAIN='AML'\n",
      "USE_GRAPHSEG=False\n",
      "PREPROCESS=False\n"
     ]
    }
   ],
   "source": [
    "# Load configuration\n",
    "with open('configs/config.yaml', 'r') as config_file:\n",
    "    config = yaml.safe_load(config_file)\n",
    "\n",
    "# GENERAL:\n",
    "DEBUG = config[\"general\"][\"DEBUG\"]\n",
    "MODEL = config[\"general\"][\"MODEL\"]\n",
    "DATA_SIZE = config[\"general\"][\"DATA_SIZE\"]\n",
    "DOMAIN = config[\"general\"]['DATA_DICT_FILE_PATH'][\"DOMAIN\"]\n",
    "DATA_DICT_FILE_PATH = config[\"general\"]['DATA_DICT_FILE_PATH'][DOMAIN]\n",
    "DATA_PATH = config[\"general\"][\"DATA_PATH\"]\n",
    "SPLITS_JSON = config[\"general\"][\"SPLITS_JSON\"]\n",
    "TRAIN_SIZE = config[\"general\"][\"TRAIN_SIZE\"]\n",
    "VAL_SIZE = config[\"general\"][\"VAL_SIZE\"]\n",
    "USE_MULTIPROCESSING = config[\"general\"][\"USE_MULTIPROCESSING\"]\n",
    "\n",
    "# BASELINE SETTINGS\n",
    "USE_GRAPHSEG = config[\"baseline\"][\"USE_GRAPHSEG\"]\n",
    "PREPROCESS = config[\"baseline\"][\"PREPROCESS\"]\n",
    "EPOCHS = config[\"baseline\"][\"EPOCHS\"]\n",
    "BATCH_SIZE = config[\"baseline\"][\"BATCH_SIZE\"]\n",
    "CHECKPOINT = config[\"baseline\"][\"CHECKPOINT\"]\n",
    "PRETRAINED_MODEL = config[\"baseline\"][\"PRETRAINED_MODEL\"]\n",
    "\n",
    "tokenizer = AutoTokenizer.from_pretrained(MODEL)\n",
    "\n",
    "print(f\"{DOMAIN=}\")\n",
    "print(f\"{USE_GRAPHSEG=}\")\n",
    "print(f\"{PREPROCESS=}\")"
   ]
  },
  {
   "cell_type": "markdown",
   "metadata": {},
   "source": [
    "Execute Graphseg\n",
    "--> unsupervised split into segments"
   ]
  },
  {
   "cell_type": "code",
   "execution_count": 5,
   "metadata": {},
   "outputs": [
    {
     "name": "stdout",
     "output_type": "stream",
     "text": [
      "Total files to process: 6492\n"
     ]
    },
    {
     "data": {
      "application/vnd.jupyter.widget-view+json": {
       "model_id": "1732f0666c0946babc4681b571f2926a",
       "version_major": 2,
       "version_minor": 0
      },
      "text/plain": [
       "Segmenting files:   0%|          | 0/6492 [00:00<?, ?it/s]"
      ]
     },
     "metadata": {},
     "output_type": "display_data"
    },
    {
     "name": "stdout",
     "output_type": "stream",
     "text": [
      "Duration: 805.1935110092163 seconds\n"
     ]
    }
   ],
   "source": [
    "import time\n",
    "\n",
    "\n",
    "if False:\n",
    "    def run_java_process(input_dir, output_dir, total_files):\n",
    "        \"\"\"Run the Java command on the input directory and track progress with tqdm.\"\"\"\n",
    "        command = ['java', '-jar',\n",
    "                os.path.join(DATA_PATH, 'Model/gg42554-graphseg-c551cfa0926e/binary/graphseg.jar'),  # binary\n",
    "                input_dir,  # Temporary input directory with unprocessed files\n",
    "                output_dir,  # output directory\n",
    "                '0.25', '1']\n",
    "        \n",
    "        with subprocess.Popen(command, stdout=subprocess.PIPE, stderr=subprocess.STDOUT, text=True, bufsize=1) as process, tqdm(total=total_files, desc=\"Segmenting files\") as pbar:\n",
    "            error_output = []  # Collect all output here, including potential error messages\n",
    "            for line in iter(process.stdout.readline, ''):\n",
    "                if \"Segmenting file:\" in line:\n",
    "                    pbar.update(1) \n",
    "                error_output.append(line)  # Collect all output\n",
    "            \n",
    "            exit_code = process.wait() \n",
    "            if exit_code != 0:\n",
    "                print(\"Process ended with an error. Exit code:\", exit_code)\n",
    "                print(\"Error Output:\")\n",
    "                print(\"\".join(error_output))\n",
    "\n",
    "    input_directory = os.path.join(DATA_PATH, '28245V231219_AML_text_files_test')\n",
    "    output_directory = os.path.join(DATA_PATH, f'Model/results/graphseg_results_{DOMAIN}_test')\n",
    "\n",
    "    os.makedirs(output_directory, exist_ok=True)\n",
    "\n",
    "    input_files = os.listdir(input_directory)\n",
    "    output_files = set(os.listdir(output_directory))\n",
    "    files_to_process = [file for file in input_files if file not in output_files]\n",
    "\n",
    "    print(f\"Total files to process: {len(files_to_process)}\")\n",
    "\n",
    "    # Use temporary directory to store files to be processed\n",
    "    with tempfile.TemporaryDirectory() as temp_dir:\n",
    "        for file in files_to_process:\n",
    "            shutil.copy(os.path.join(input_directory, file), os.path.join(temp_dir, file))\n",
    "\n",
    "        start_time = time.time()\n",
    "        run_java_process(temp_dir, output_directory, len(files_to_process))\n",
    "        end_time = time.time()\n",
    "        duration = end_time - start_time\n",
    "        print(f\"Duration: {duration} seconds\")\n"
   ]
  },
  {
   "cell_type": "markdown",
   "metadata": {},
   "source": [
    "Note: Graphseg inference speed on AML test set:\n",
    "Duration: 805.1935110092163 seconds\n",
    "Total pages to process: 6492"
   ]
  },
  {
   "cell_type": "markdown",
   "metadata": {},
   "source": [
    "WANDB"
   ]
  },
  {
   "cell_type": "code",
   "execution_count": 4,
   "metadata": {},
   "outputs": [
    {
     "name": "stderr",
     "output_type": "stream",
     "text": [
      "\u001b[34m\u001b[1mwandb\u001b[0m: Currently logged in as: \u001b[33mtlh45\u001b[0m. Use \u001b[1m`wandb login --relogin`\u001b[0m to force relogin\n"
     ]
    },
    {
     "data": {
      "text/html": [
       "Tracking run with wandb version 0.16.6"
      ],
      "text/plain": [
       "<IPython.core.display.HTML object>"
      ]
     },
     "metadata": {},
     "output_type": "display_data"
    },
    {
     "data": {
      "text/html": [
       "Run data is saved locally in <code>/home/tlh45/rds/hpc-work/Model/wandb/run-20240430_145918-rj29wfiy</code>"
      ],
      "text/plain": [
       "<IPython.core.display.HTML object>"
      ]
     },
     "metadata": {},
     "output_type": "display_data"
    },
    {
     "data": {
      "text/html": [
       "Syncing run <strong><a href='https://wandb.ai/tlh45/mphil-project/runs/rj29wfiy' target=\"_blank\">BASELINE-BLOCKS-roberta-base</a></strong> to <a href='https://wandb.ai/tlh45/mphil-project' target=\"_blank\">Weights & Biases</a> (<a href='https://wandb.me/run' target=\"_blank\">docs</a>)<br/>"
      ],
      "text/plain": [
       "<IPython.core.display.HTML object>"
      ]
     },
     "metadata": {},
     "output_type": "display_data"
    },
    {
     "data": {
      "text/html": [
       " View project at <a href='https://wandb.ai/tlh45/mphil-project' target=\"_blank\">https://wandb.ai/tlh45/mphil-project</a>"
      ],
      "text/plain": [
       "<IPython.core.display.HTML object>"
      ]
     },
     "metadata": {},
     "output_type": "display_data"
    },
    {
     "data": {
      "text/html": [
       " View run at <a href='https://wandb.ai/tlh45/mphil-project/runs/rj29wfiy' target=\"_blank\">https://wandb.ai/tlh45/mphil-project/runs/rj29wfiy</a>"
      ],
      "text/plain": [
       "<IPython.core.display.HTML object>"
      ]
     },
     "metadata": {},
     "output_type": "display_data"
    }
   ],
   "source": [
    "# Generate a random tag of 6 characters\n",
    "unique_tag = ''.join(random.choices(string.ascii_letters + string.digits, k=6))\n",
    "\n",
    "os.environ['WANDB_DIR'] = f\"{DATA_PATH}/Model\"\n",
    "os.environ['WANDB_CACHE_DIR'] = f\"{DATA_PATH}/Model\"\n",
    "\n",
    "wandb_init = {\n",
    "    \"project\": config[\"wandb\"][\"WANDB_PROJECT\"],    \n",
    "    \"tags\": [unique_tag, f\"MODEL={MODEL}\", f\"DATA_SIZE={DATA_SIZE}\"],\n",
    "    \"group\": \"BASELINE\",\n",
    "    \"name\": f'BASELINE-{\"GRAPHSEG\" if USE_GRAPHSEG else \"BLOCKS\"}-{MODEL}'\n",
    "}\n",
    "wandb.login()\n",
    "wandb.init(**wandb_init)\n",
    "config_dict = {\n",
    "    \"model\": MODEL,\n",
    "    \"data_size\": DATA_SIZE,\n",
    "    \"train_size\": TRAIN_SIZE,\n",
    "    \"val_size\": VAL_SIZE,\n",
    "    \"test_size\": 1 - TRAIN_SIZE - VAL_SIZE,\n",
    "    \"epochs\": EPOCHS,\n",
    "    \"batch_size\": BATCH_SIZE,\n",
    "    \"pretrained_model\": PRETRAINED_MODEL,\n",
    "    \"checkpoint\": str(CHECKPOINT).replace(\"/\", \"-\")\n",
    "}\n",
    "wandb.config.update(config_dict)"
   ]
  },
  {
   "cell_type": "markdown",
   "metadata": {},
   "source": [
    "### Load Full Data"
   ]
  },
  {
   "cell_type": "code",
   "execution_count": 3,
   "metadata": {},
   "outputs": [
    {
     "name": "stdout",
     "output_type": "stream",
     "text": [
      "Load data_dict from /home/tlh45/rds/hpc-work/preprocessing/data_dicts/28245V231219_AML/data_dict_roberta-base-10-04.pkl.\n",
      "Done.\n"
     ]
    }
   ],
   "source": [
    "docReader = DocReader(MODEL, tokenizer)\n",
    "create_original_snippets = True\n",
    "add_full_page = True\n",
    "\n",
    "if DATA_DICT_FILE_PATH:\n",
    "    print(f\"Load data_dict from {DATA_PATH}/{DATA_DICT_FILE_PATH}.\")\n",
    "    with open(f'{DATA_PATH}/{DATA_DICT_FILE_PATH}', 'rb') as handle:\n",
    "        data_dict = pickle.load(handle)\n",
    "    print(\"Done.\")\n",
    "else:\n",
    "    data_dict = docReader.preprocess_folder(preprocess=False, folder_path= f'{DATA_PATH}/28245V231219' # f'{DATA_PATH}/28245V231219'\n",
    "                                        , data_size=DATA_SIZE, num_workers=76, chunksize=1\n",
    "                                        , extract_title=True, extract_doc_long_id=True, refine_regions=True, create_original_snippets=create_original_snippets, add_full_page=add_full_page\n",
    "                                        , data_dict_folder=f\"{DATA_PATH}/preprocessing/data_dicts/28245V231219_AML\", file_name_additional_suffix=\"-06-04\")"
   ]
  },
  {
   "cell_type": "code",
   "execution_count": 5,
   "metadata": {},
   "outputs": [
    {
     "data": {
      "application/vnd.jupyter.widget-view+json": {
       "model_id": "209956ddb27241f5892613028aa57491",
       "version_major": 2,
       "version_minor": 0
      },
      "text/plain": [
       "  0%|          | 0/965 [00:00<?, ?it/s]"
      ]
     },
     "metadata": {},
     "output_type": "display_data"
    }
   ],
   "source": [
    "# necessary for graphseg: write text into txt files\n",
    "if False:\n",
    "    for doc_id, page_dict in tqdm(data_dict.items()):\n",
    "        for page_index, page_content in page_dict.items():\n",
    "            if page_index in ['title', 'doc_long_id']:\n",
    "                continue\n",
    "            full_page_text = page_content['full_text']\n",
    "            if str(full_page_text).strip():\n",
    "                # write text into file\n",
    "                file_path = f\"{DATA_PATH}/28259v240404_CYBER_II_text_files/{doc_id}_{page_index}.txt\"\n",
    "                with open(file_path, 'w') as file:\n",
    "                    file.write(full_page_text)"
   ]
  },
  {
   "cell_type": "markdown",
   "metadata": {},
   "source": [
    "### Data Preprocessing"
   ]
  },
  {
   "cell_type": "code",
   "execution_count": 4,
   "metadata": {},
   "outputs": [],
   "source": [
    "class TextDataset(Dataset):\n",
    "    def __init__(self, encodings, labels):\n",
    "        self.encodings = {key: torch.tensor(value) for key, value in encodings.items()}\n",
    "        self.labels = torch.tensor(labels)\n",
    "\n",
    "    def __getitem__(self, idx):\n",
    "        item = {key: value[idx] for key, value in self.encodings.items()}\n",
    "        item['labels'] = self.labels[idx]\n",
    "        return item\n",
    "\n",
    "    def __len__(self):\n",
    "        return len(self.labels)\n",
    "    \n",
    "def default_page():\n",
    "        if create_original_snippets:\n",
    "            return {'blocks': [], 'regions': [], 'refined_regions': [], 'snippets': [], 'full_text': \"\", 'tokenized_full_text': [], 'predicted_snippets': []}\n",
    "        else:\n",
    "            return {'blocks': [], 'regions': [], 'refined_regions': [], 'full_text': \"\", 'tokenized_full_text': [], 'predicted_snippets': []}\n",
    "    \n",
    "def jaccard_similarity(str1, str2):\n",
    "    a = set(str1.split())\n",
    "    b = set(str2.split())\n",
    "    c = a.intersection(b)\n",
    "    return float(len(c)) / (len(a) + len(b) - len(c))\n",
    "\n",
    "def read_graphseg_segments(doc_id, page_id, graphseg_folder=f\"{DATA_PATH}/Model/results/graphseg_results_{DOMAIN}\"):\n",
    "    file_path = os.path.join(graphseg_folder, f\"{doc_id}_{page_id}.txt\")\n",
    "    segments = []\n",
    "    if os.path.exists(file_path):\n",
    "        with open(file_path, 'r') as file:\n",
    "            content = file.read()\n",
    "            segments = content.strip().split(\"==========\\n\")\n",
    "    return segments"
   ]
  },
  {
   "cell_type": "markdown",
   "metadata": {},
   "source": [
    "#### Read Graphseg data into dict for fast access"
   ]
  },
  {
   "cell_type": "code",
   "execution_count": 5,
   "metadata": {},
   "outputs": [
    {
     "data": {
      "application/vnd.jupyter.widget-view+json": {
       "model_id": "f21a7c33a3934b88a5769610c3d5d7f6",
       "version_major": 2,
       "version_minor": 0
      },
      "text/plain": [
       "  0%|          | 0/50373 [00:00<?, ?it/s]"
      ]
     },
     "metadata": {},
     "output_type": "display_data"
    }
   ],
   "source": [
    "if USE_GRAPHSEG:\n",
    "    # Create dict with graphseg read segments in multiprocessing for speeding up I/O\n",
    "    def read_segments(args):\n",
    "        doc_id, page_index, content = args\n",
    "        if page_index in ['title', 'doc_long_id']:\n",
    "            return None \n",
    "        segments_or_blocks = read_graphseg_segments(doc_id, page_index)\n",
    "        return (doc_id, page_index, segments_or_blocks)\n",
    "\n",
    "    def initialise_graphseg_data(data_dict):\n",
    "        graphseg_data = defaultdict(dict)\n",
    "\n",
    "        # Prepare arguments for multiprocessing\n",
    "        args_list = [(doc_id, page_index, content)\n",
    "                    for doc_id, pages in data_dict.items()\n",
    "                    for page_index, content in pages.items()]\n",
    "\n",
    "        pool = Pool(processes=4)\n",
    "        results = list(tqdm(pool.imap(read_segments, args_list), total=len(args_list)))\n",
    "        \n",
    "        pool.close()\n",
    "        pool.join()\n",
    "\n",
    "        for result in results:\n",
    "            if result is not None:\n",
    "                doc_id, page_index, segments = result\n",
    "                graphseg_data[doc_id][page_index] = segments\n",
    "\n",
    "        return graphseg_data\n",
    "\n",
    "    graphseg_data = initialise_graphseg_data(data_dict)"
   ]
  },
  {
   "cell_type": "markdown",
   "metadata": {},
   "source": [
    "### Identify suitable threshold for jaccard similairty\n",
    "See Section C.3 in report"
   ]
  },
  {
   "cell_type": "code",
   "execution_count": 27,
   "metadata": {},
   "outputs": [
    {
     "data": {
      "application/vnd.jupyter.widget-view+json": {
       "model_id": "258f8bc5c48e43bb81ff75acb2d8347e",
       "version_major": 2,
       "version_minor": 0
      },
      "text/plain": [
       "  0%|          | 0/1149 [00:00<?, ?it/s]"
      ]
     },
     "metadata": {},
     "output_type": "display_data"
    },
    {
     "data": {
      "image/png": "[encoded data removed]",
      "text/plain": [
       "<Figure size 640x480 with 1 Axes>"
      ]
     },
     "metadata": {},
     "output_type": "display_data"
    }
   ],
   "source": [
    "def collect_similarity_scores(data_dict):\n",
    "    doc_to_text_indices = {}\n",
    "    max_similarities = []  # List to store maximum similarity scores for plotting\n",
    "\n",
    "    for doc_id, pages in tqdm(list(data_dict.items())):\n",
    "        doc_to_text_indices[doc_id] = []\n",
    "        for page_index, content in pages.items():\n",
    "            if page_index in ['title', 'doc_long_id']:\n",
    "                continue\n",
    "\n",
    "            refined_regions = content['refined_regions']\n",
    "            segments_or_blocks = []\n",
    "\n",
    "            if USE_GRAPHSEG:\n",
    "                segments_or_blocks = graphseg_data[doc_id][page_index]\n",
    "            else:\n",
    "                segments_or_blocks = [block['text'] for block in content['blocks']]\n",
    "\n",
    "            for region in refined_regions:\n",
    "                if not segments_or_blocks:\n",
    "                    continue\n",
    "                # Compute max similarity for each region against all blocks\n",
    "                max_similarity = max(jaccard_similarity(segment, region['text']) for segment in segments_or_blocks)\n",
    "                max_similarities.append(max_similarity) \n",
    "\n",
    "    return max_similarities\n",
    "\n",
    "\n",
    "max_similarities = collect_similarity_scores(data_dict)\n",
    "\n",
    "plt.hist(max_similarities, bins=50, alpha=0.75)\n",
    "plt.title('Histogram of Max Jaccard Similarities')\n",
    "plt.xlabel('Jaccard Similarity')\n",
    "plt.ylabel('Frequency')\n",
    "plt.show()"
   ]
  },
  {
   "cell_type": "code",
   "execution_count": 28,
   "metadata": {},
   "outputs": [],
   "source": [
    "import pandas as pd\n",
    "import numpy as np\n",
    "\n",
    "# Save as CSV\n",
    "df = pd.DataFrame(max_similarities)\n",
    "df.to_csv(f'Evaluation/{\"graphseg\" if USE_GRAPHSEG else \"block\"}_baseline_model_max_similarities.csv', index=False)"
   ]
  },
  {
   "cell_type": "markdown",
   "metadata": {},
   "source": [
    "#### Elbow Method to Determine Threshold"
   ]
  },
  {
   "cell_type": "code",
   "execution_count": 29,
   "metadata": {},
   "outputs": [
    {
     "data": {
      "image/png": "[encoded data removed]",
      "text/plain": [
       "<Figure size 550x400 with 1 Axes>"
      ]
     },
     "metadata": {},
     "output_type": "display_data"
    },
    {
     "data": {
      "image/png": "[encoded data removed]",
      "text/plain": [
       "<Figure size 550x400 with 1 Axes>"
      ]
     },
     "metadata": {},
     "output_type": "display_data"
    },
    {
     "data": {
      "text/plain": [
       "0.8155339805825242"
      ]
     },
     "execution_count": 29,
     "metadata": {},
     "output_type": "execute_result"
    }
   ],
   "source": [
    "from kneed import KneeLocator\n",
    "import seaborn as sns\n",
    "\n",
    "# Load scores data\n",
    "file_path = f'Evaluation/{\"graphseg\" if USE_GRAPHSEG else \"block\"}_baseline_model_max_similarities.csv'\n",
    "similarities = pd.read_csv(file_path)\n",
    "\n",
    "if similarities.shape[1] > 1:\n",
    "    similarities = similarities.iloc[:, 0]\n",
    "else:\n",
    "    similarities = similarities.squeeze()  # Convert DataFrame to Series if only one column\n",
    "\n",
    "# Sort data\n",
    "sorted_similarities = np.sort(similarities)\n",
    "\n",
    "# Calculate cumulative distribution\n",
    "cumulative_distribution = np.cumsum(sorted_similarities) / np.sum(sorted_similarities)\n",
    "\n",
    "# Find \"elbow\" in curve\n",
    "kneedle = KneeLocator(np.arange(len(cumulative_distribution)), cumulative_distribution, S=1.0, curve='convex', direction='increasing')\n",
    "\n",
    "# map back to actual similarity score\n",
    "elbow_threshold = sorted_similarities[kneedle.knee]\n",
    "\n",
    "# Generate plots:\n",
    "color_palette = sns.color_palette(\"tab10\")\n",
    "sns.set_palette(color_palette)\n",
    "plt.rcParams['axes.prop_cycle'] = plt.cycler(color=color_palette)\n",
    "\n",
    "plt.rcParams.update({\n",
    "    'font.family': 'serif',\n",
    "    'font.serif': 'Times New Roman',\n",
    "    'axes.labelsize': 18,\n",
    "    'xtick.labelsize': 16,\n",
    "    'ytick.labelsize': 16,\n",
    "    'legend.fontsize': 14,\n",
    "    'text.color': 'black'\n",
    "})\n",
    "\n",
    "# Plot histogram with elbow threshold line\n",
    "fig, ax = plt.subplots(figsize=(5.5, 4))\n",
    "bars = ax.hist(sorted_similarities, bins=50, alpha=0.75, color=color_palette[0], edgecolor='black', linewidth=0.7)\n",
    "ax.set_xlabel('Jaccard Similarity Score', fontsize=18)\n",
    "ax.set_ylabel('Frequency', fontsize=18)\n",
    "ax.grid(axis='y', linestyle='--', alpha=0.5)\n",
    "ax.axvline(x=elbow_threshold, color=color_palette[1], linestyle='--', linewidth=1.5, label='Elbow Threshold')\n",
    "ax.text(elbow_threshold * 1.04, ax.get_ylim()[1] * 0.8, f'{elbow_threshold:.2f}', color=color_palette[1], fontsize=16, ha='left', va='center', backgroundcolor='white')\n",
    "ax.legend(fontsize=14)\n",
    "ax.tick_params(axis='both', which='major', labelsize=16)\n",
    "ax.spines['top'].set_visible(False)\n",
    "ax.spines['right'].set_visible(False)\n",
    "fig.tight_layout()\n",
    "fig.savefig(f'plots/{\"graphseg\" if USE_GRAPHSEG else \"blocks\"}_max_jaccard_similarity_histogram.pdf', pad_inches=0, bbox_inches='tight', dpi=300)\n",
    "plt.show()\n",
    "\n",
    "# Plot cumulative distribution with elbow point\n",
    "fig, ax = plt.subplots(figsize=(5.5, 4)) \n",
    "ax.plot(sorted_similarities, cumulative_distribution, color=color_palette[0], marker='o', markevery=[kneedle.knee], markerfacecolor=color_palette[1], markeredgewidth=2)\n",
    "ax.set_xlabel('Jaccard Similarity Score', fontsize=18)\n",
    "ax.set_ylabel('Cumulative Distribution', fontsize=18)\n",
    "ax.grid(True, axis=\"y\", linestyle='--', alpha=0.5)\n",
    "ax.text(elbow_threshold, cumulative_distribution[kneedle.knee] + 0.05, f'{elbow_threshold:.2f}', color='black', fontsize=16, ha='right')\n",
    "ax.tick_params(axis='both', which='major', labelsize=16)\n",
    "ax.spines['top'].set_visible(False)\n",
    "ax.spines['right'].set_visible(False)\n",
    "fig.tight_layout()\n",
    "fig.savefig(f'plots/{\"graphseg\" if USE_GRAPHSEG else \"blocks\"}_jaccard_similarity_cumulative_distribution.pdf', pad_inches=0, bbox_inches='tight', dpi=300)\n",
    "plt.show()\n",
    "\n",
    "elbow_threshold"
   ]
  },
  {
   "cell_type": "markdown",
   "metadata": {},
   "source": [
    "### Create Dataset"
   ]
  },
  {
   "cell_type": "code",
   "execution_count": 15,
   "metadata": {},
   "outputs": [
    {
     "name": "stdout",
     "output_type": "stream",
     "text": [
      "Preprocessing started. Using blocks as basis.\n",
      "Using threshold: 0.8155339805825242\n"
     ]
    },
    {
     "data": {
      "application/vnd.jupyter.widget-view+json": {
       "model_id": "f5be9e2ab5134eda9c19c29e0cd0c2e0",
       "version_major": 2,
       "version_minor": 0
      },
      "text/plain": [
       "  0%|          | 0/1149 [00:00<?, ?it/s]"
      ]
     },
     "metadata": {},
     "output_type": "display_data"
    }
   ],
   "source": [
    "if PREPROCESS:\n",
    "    print(f'Preprocessing started. Using {\"graphseg segments\" if USE_GRAPHSEG else \"blocks\"} as basis.')\n",
    "    doc_to_text_indices = {}\n",
    "    texts = []\n",
    "    labels = []\n",
    "    current_index = 0\n",
    "    threshold = elbow_threshold # pull from above\n",
    "    print(f\"Using threshold: {threshold}\")\n",
    "\n",
    "    for doc_id, pages in tqdm(list(data_dict.items())[:DATA_SIZE]):\n",
    "        doc_to_text_indices[doc_id] = []\n",
    "        for page_index, content in pages.items():\n",
    "            if page_index in ['title', 'doc_long_id']:\n",
    "                continue\n",
    "            refined_regions = content['refined_regions']\n",
    "\n",
    "            segments_or_blocks = []\n",
    "            if USE_GRAPHSEG:\n",
    "                segments_or_blocks = graphseg_data[doc_id][page_index]\n",
    "            else:\n",
    "                segments_or_blocks = [block['text'] for block in content['blocks']]\n",
    "\n",
    "            for segment in segments_or_blocks:\n",
    "                # Determine if the segment/block matches any refined region\n",
    "                # Leverage the defined threshold to determine a match\n",
    "                match = any(jaccard_similarity(segment, region['text']) > threshold for region in refined_regions)\n",
    "                texts.append(segment)\n",
    "                labels.append(1 if match else 0)\n",
    "                doc_to_text_indices[doc_id].append(current_index)\n",
    "                current_index += 1\n",
    "\n",
    "    encodings = tokenizer(texts, truncation=True, padding=True, max_length=512)\n",
    "    full_dataset = TextDataset(encodings, labels)\n",
    "\n",
    "    # Load document splits from JSON file\n",
    "    with open(SPLITS_JSON, 'r') as f:\n",
    "        document_splits = json.load(f)\n",
    "    \n",
    "    train_doc_ids = document_splits['train_ids']\n",
    "    val_doc_ids = document_splits['val_ids']\n",
    "    test_doc_ids = document_splits['test_ids']\n",
    "\n",
    "    # Function to create subsets of TextDataset\n",
    "    def create_subset(dataset, doc_ids, doc_to_text_indices):\n",
    "        indices = [idx for doc_id in doc_ids for idx in doc_to_text_indices[doc_id]]\n",
    "        return Subset(dataset, indices)\n",
    "\n",
    "    # Create subset\n",
    "    train_dataset = create_subset(full_dataset, train_doc_ids, doc_to_text_indices)\n",
    "    val_dataset = create_subset(full_dataset, val_doc_ids, doc_to_text_indices)\n",
    "    test_dataset = create_subset(full_dataset, test_doc_ids, doc_to_text_indices)\n",
    "\n",
    "    # Helper function to add documents to new data_dict based on indices\n",
    "    def add_to_split_dict(split_dict, original_dict, doc_ids):\n",
    "        for doc_id in doc_ids:\n",
    "            split_dict[doc_id] = original_dict[doc_id]\n",
    "\n",
    "    # Initialize split dictionaries\n",
    "    train_data_dict = defaultdict(lambda: defaultdict(default_page))\n",
    "    val_data_dict = defaultdict(lambda: defaultdict(default_page))\n",
    "    test_data_dict = defaultdict(lambda: defaultdict(default_page))\n",
    "\n",
    "    # Split data_dict into train, val, and test dicts\n",
    "    add_to_split_dict(train_data_dict, data_dict, train_doc_ids)\n",
    "    add_to_split_dict(val_data_dict, data_dict, val_doc_ids)\n",
    "    add_to_split_dict(test_data_dict, data_dict, test_doc_ids)"
   ]
  },
  {
   "cell_type": "code",
   "execution_count": 6,
   "metadata": {},
   "outputs": [],
   "source": [
    "folder = f'{DATA_PATH}/Model/datasets/{\"graphseg\" if USE_GRAPHSEG else \"blocks\"}'"
   ]
  },
  {
   "cell_type": "code",
   "execution_count": 7,
   "metadata": {},
   "outputs": [
    {
     "name": "stdout",
     "output_type": "stream",
     "text": [
      "Loading datasets.\n",
      "Loading datadicts.\n"
     ]
    }
   ],
   "source": [
    "if PREPROCESS:\n",
    "    # Save data for future use:\n",
    "    print(\"Saving datasets.\")\n",
    "    torch.save(train_dataset, f'{folder}/train_dataset.pth')\n",
    "    torch.save(val_dataset, f'{folder}/val_dataset.pth')\n",
    "    torch.save(test_dataset, f'{folder}/test_dataset.pth')\n",
    "\n",
    "    # Save doc_to_text_indices and split dicts\n",
    "    with open(f'{folder}/doc_to_text_indices.pkl', 'wb') as f:\n",
    "        pickle.dump(doc_to_text_indices, f)\n",
    "\n",
    "    print(\"Saving datadicts.\")\n",
    "    with open(f'{folder}/train_data_dict.pkl', 'wb') as f:\n",
    "        pickle.dump(dict(train_data_dict), f)\n",
    "\n",
    "    with open(f'{folder}/val_data_dict.pkl', 'wb') as f:\n",
    "        pickle.dump(dict(val_data_dict), f)\n",
    "\n",
    "    with open(f'{folder}/test_data_dict.pkl', 'wb') as f:\n",
    "        pickle.dump(dict(test_data_dict), f)\n",
    "else:\n",
    "    # Load datasets\n",
    "    print(\"Loading datasets.\")\n",
    "    train_dataset = torch.load(f'{folder}/train_dataset.pth')\n",
    "    val_dataset = torch.load(f'{folder}/val_dataset.pth')\n",
    "    test_dataset = torch.load(f'{folder}/test_dataset.pth')\n",
    "\n",
    "    # Load doc_to_text_indices and split dicts\n",
    "    with open(f'{folder}/doc_to_text_indices.pkl', 'rb') as f:\n",
    "        doc_to_text_indices = pickle.load(f)\n",
    "\n",
    "    print(\"Loading datadicts.\")\n",
    "    with open(f'{folder}/train_data_dict.pkl', 'rb') as f:\n",
    "        train_data_dict = pickle.load(f)\n",
    "\n",
    "    with open(f'{folder}/val_data_dict.pkl', 'rb') as f:\n",
    "        val_data_dict = pickle.load(f)\n",
    "\n",
    "    with open(f'{folder}/test_data_dict.pkl', 'rb') as f:\n",
    "        test_data_dict = pickle.load(f)"
   ]
  },
  {
   "cell_type": "markdown",
   "metadata": {},
   "source": [
    "### Setup prediction model based on datasets/segments define above\n",
    "\n",
    "Leveraging AutoModelForSequenceClassification from HF"
   ]
  },
  {
   "cell_type": "code",
   "execution_count": 18,
   "metadata": {},
   "outputs": [
    {
     "name": "stderr",
     "output_type": "stream",
     "text": [
      "Some weights of RobertaForSequenceClassification were not initialized from the model checkpoint at roberta-base and are newly initialized: ['classifier.out_proj.weight', 'classifier.dense.weight', 'classifier.dense.bias', 'classifier.out_proj.bias']\n",
      "You should probably TRAIN this model on a down-stream task to be able to use it for predictions and inference.\n"
     ]
    },
    {
     "data": {
      "text/html": [
       "\n",
       "    <div>\n",
       "      \n",
       "      <progress value='2754' max='2754' style='width:300px; height:20px; vertical-align: middle;'></progress>\n",
       "      [2754/2754 33:13, Epoch 3/3]\n",
       "    </div>\n",
       "    <table border=\"1\" class=\"dataframe\">\n",
       "  <thead>\n",
       " <tr style=\"text-align: left;\">\n",
       "      <th>Epoch</th>\n",
       "      <th>Training Loss</th>\n",
       "      <th>Validation Loss</th>\n",
       "    </tr>\n",
       "  </thead>\n",
       "  <tbody>\n",
       "    <tr>\n",
       "      <td>1</td>\n",
       "      <td>0.234800</td>\n",
       "      <td>0.240936</td>\n",
       "    </tr>\n",
       "    <tr>\n",
       "      <td>2</td>\n",
       "      <td>0.203600</td>\n",
       "      <td>0.215634</td>\n",
       "    </tr>\n",
       "    <tr>\n",
       "      <td>3</td>\n",
       "      <td>0.161700</td>\n",
       "      <td>0.227869</td>\n",
       "    </tr>\n",
       "  </tbody>\n",
       "</table><p>"
      ],
      "text/plain": [
       "<IPython.core.display.HTML object>"
      ]
     },
     "metadata": {},
     "output_type": "display_data"
    }
   ],
   "source": [
    "# Check if saved checkpoint exists\n",
    "latest_checkpoint = None\n",
    "if CHECKPOINT:\n",
    "    checkpoint_directory = f'{DATA_PATH}/{CHECKPOINT}'\n",
    "    if os.path.exists(checkpoint_directory):\n",
    "        latest_checkpoint = checkpoint_directory\n",
    "\n",
    "model = AutoModelForSequenceClassification.from_pretrained(MODEL)\n",
    "\n",
    "training_args = TrainingArguments(\n",
    "    output_dir=f'{DATA_PATH}/Model/results/{unique_tag}',\n",
    "    num_train_epochs= EPOCHS,\n",
    "    per_device_train_batch_size=BATCH_SIZE,\n",
    "    per_device_eval_batch_size=BATCH_SIZE,\n",
    "    warmup_steps=500,\n",
    "    weight_decay=0.01,\n",
    "    logging_dir=f'{DATA_PATH}/Model/logs',\n",
    "    logging_steps=50,\n",
    "    evaluation_strategy=\"epoch\",\n",
    "    save_strategy=\"epoch\",\n",
    "    save_steps=500,\n",
    "    load_best_model_at_end=True,\n",
    "    metric_for_best_model='loss',\n",
    "    greater_is_better=False, \n",
    "    report_to=\"wandb\",\n",
    "    fp16=True\n",
    ")\n",
    "\n",
    "# Create Trainer instance with EarlyStoppingCallback\n",
    "trainer = Trainer(\n",
    "    model=model, \n",
    "    args=training_args,\n",
    "    train_dataset=train_dataset,\n",
    "    eval_dataset=val_dataset,\n",
    "    callbacks=[EarlyStoppingCallback(early_stopping_patience= 3)]\n",
    ")\n",
    "\n",
    "trainer.train(resume_from_checkpoint=latest_checkpoint)\n",
    "\n",
    "# Save model\n",
    "model_save_path = f\"{DATA_PATH}/Model/results/saved_model/{unique_tag}\"\n",
    "os.makedirs(model_save_path, exist_ok=True)\n",
    "trainer.save_model(model_save_path)"
   ]
  },
  {
   "cell_type": "markdown",
   "metadata": {},
   "source": [
    "### Evaluate"
   ]
  },
  {
   "cell_type": "code",
   "execution_count": 16,
   "metadata": {},
   "outputs": [
    {
     "data": {
      "text/html": [
       "\n",
       "    <div>\n",
       "      \n",
       "      <progress value='1' max='163' style='width:300px; height:20px; vertical-align: middle;'></progress>\n",
       "      [  1/163 : < :]\n",
       "    </div>\n",
       "    "
      ],
      "text/plain": [
       "<IPython.core.display.HTML object>"
      ]
     },
     "metadata": {},
     "output_type": "display_data"
    },
    {
     "name": "stdout",
     "output_type": "stream",
     "text": [
      "Test Set Evaluation Results:\n",
      "eval_loss: 0.24191118776798248\n",
      "eval_runtime: 38.1144\n",
      "eval_samples_per_second: 545.7\n",
      "eval_steps_per_second: 4.277\n",
      "epoch: 3.0\n"
     ]
    }
   ],
   "source": [
    "# Evaluate on the test set\n",
    "test_results = trainer.evaluate(test_dataset)\n",
    "print(\"Test Set Evaluation Results:\")\n",
    "for key, value in test_results.items():\n",
    "    print(f\"{key}: {value}\")"
   ]
  },
  {
   "cell_type": "code",
   "execution_count": 17,
   "metadata": {},
   "outputs": [
    {
     "data": {
      "application/vnd.jupyter.widget-view+json": {
       "model_id": "30bf6dca47c04c51947a90b9e6501e46",
       "version_major": 2,
       "version_minor": 0
      },
      "text/plain": [
       "VBox(children=(Label(value='0.014 MB of 0.014 MB uploaded\\r'), FloatProgress(value=1.0, max=1.0)))"
      ]
     },
     "metadata": {},
     "output_type": "display_data"
    },
    {
     "data": {
      "text/html": [
       "<style>\n",
       "    table.wandb td:nth-child(1) { padding: 0 10px; text-align: left ; width: auto;} td:nth-child(2) {text-align: left ; width: 100%}\n",
       "    .wandb-row { display: flex; flex-direction: row; flex-wrap: wrap; justify-content: flex-start; width: 100% }\n",
       "    .wandb-col { display: flex; flex-direction: column; flex-basis: 100%; flex: 1; padding: 10px; }\n",
       "    </style>\n",
       "<div class=\"wandb-row\"><div class=\"wandb-col\"><h3>Run history:</h3><br/><table class=\"wandb\"><tr><td>eval/loss</td><td>█▂▄▁</td></tr><tr><td>eval/runtime</td><td>▂▁▁█</td></tr><tr><td>eval/samples_per_second</td><td>▁███</td></tr><tr><td>eval/steps_per_second</td><td>▁██▆</td></tr><tr><td>train/epoch</td><td>▁▁▁▂▂▂▂▂▂▃▃▃▃▃▃▄▄▄▄▄▅▅▅▅▅▆▆▆▆▆▇▇▇▇▇█████</td></tr><tr><td>train/global_step</td><td>▁▁▁▁▂▂▂▂▂▃▃▃▃▃▃▄▄▄▄▄▅▅▅▅▅▆▆▆▆▆▇▇▇▇▇█████</td></tr><tr><td>train/learning_rate</td><td>▂▂▃▄▄▅▆▇▇███▇▇▇▇▆▆▆▆▅▅▅▅▅▄▄▄▄▃▃▃▃▂▂▂▂▂▁▁</td></tr><tr><td>train/loss</td><td>█▄▃▃▃▃▃▃▂▃▂▂▂▂▂▂▂▂▂▂▂▂▂▂▂▂▂▁▁▁▁▁▁▁▁▁▁▁▁▁</td></tr><tr><td>train/total_flos</td><td>▁</td></tr><tr><td>train/train_loss</td><td>▁</td></tr><tr><td>train/train_runtime</td><td>▁</td></tr><tr><td>train/train_samples_per_second</td><td>▁</td></tr><tr><td>train/train_steps_per_second</td><td>▁</td></tr></table><br/></div><div class=\"wandb-col\"><h3>Run summary:</h3><br/><table class=\"wandb\"><tr><td>eval/loss</td><td>0.24191</td></tr><tr><td>eval/runtime</td><td>38.1144</td></tr><tr><td>eval/samples_per_second</td><td>545.7</td></tr><tr><td>eval/steps_per_second</td><td>4.277</td></tr><tr><td>train/epoch</td><td>3.0</td></tr><tr><td>train/global_step</td><td>2160</td></tr><tr><td>train/learning_rate</td><td>0.0</td></tr><tr><td>train/loss</td><td>0.1991</td></tr><tr><td>train/total_flos</td><td>7.270626726079488e+16</td></tr><tr><td>train/train_loss</td><td>0.25131</td></tr><tr><td>train/train_runtime</td><td>1551.386</td></tr><tr><td>train/train_samples_per_second</td><td>178.12</td></tr><tr><td>train/train_steps_per_second</td><td>1.392</td></tr></table><br/></div></div>"
      ],
      "text/plain": [
       "<IPython.core.display.HTML object>"
      ]
     },
     "metadata": {},
     "output_type": "display_data"
    },
    {
     "data": {
      "text/html": [
       " View run <strong style=\"color:#cdcd00\">BASELINE-GRAPHSEG-roberta-base</strong> at: <a href='https://wandb.ai/tlh45/mphil-project/runs/05c4pdj9/workspace' target=\"_blank\">https://wandb.ai/tlh45/mphil-project/runs/05c4pdj9/workspace</a><br/>Synced 5 W&B file(s), 0 media file(s), 0 artifact file(s) and 0 other file(s)"
      ],
      "text/plain": [
       "<IPython.core.display.HTML object>"
      ]
     },
     "metadata": {},
     "output_type": "display_data"
    },
    {
     "data": {
      "text/html": [
       "Find logs at: <code>/home/tlh45/rds/hpc-work/Model/wandb/run-20240423_162501-05c4pdj9/logs</code>"
      ],
      "text/plain": [
       "<IPython.core.display.HTML object>"
      ]
     },
     "metadata": {},
     "output_type": "display_data"
    }
   ],
   "source": [
    "wandb.finish()"
   ]
  },
  {
   "cell_type": "markdown",
   "metadata": {},
   "source": [
    "### Read Pretrained Model for Evaluation"
   ]
  },
  {
   "cell_type": "code",
   "execution_count": 8,
   "metadata": {},
   "outputs": [
    {
     "name": "stdout",
     "output_type": "stream",
     "text": [
      "Model 4wvN23 successfully loaded.\n"
     ]
    }
   ],
   "source": [
    "if PRETRAINED_MODEL:\n",
    "    model = AutoModelForSequenceClassification.from_pretrained(f\"{DATA_PATH}/Model/results/saved_model/{PRETRAINED_MODEL}\")\n",
    "    model.to('cuda')\n",
    "    model.eval()\n",
    "    print(f\"Model {PRETRAINED_MODEL} successfully loaded.\")"
   ]
  },
  {
   "cell_type": "code",
   "execution_count": 7,
   "metadata": {},
   "outputs": [
    {
     "name": "stdout",
     "output_type": "stream",
     "text": [
      "Predicted class: 1 (Probability: 0.8602)\n"
     ]
    }
   ],
   "source": [
    "def predict_block(block_text):\n",
    "    '''\n",
    "    Predicts class of a given block of text\n",
    "    '''\n",
    "    inputs = tokenizer(block_text, return_tensors=\"pt\", padding=True, truncation=True, max_length=512)\n",
    "    inputs = {k: v.to(model.device) for k, v in inputs.items()}\n",
    "    with torch.no_grad():\n",
    "        outputs = model(**inputs)\n",
    "    probs = torch.nn.functional.softmax(outputs.logits, dim=1)\n",
    "    predicted_class = torch.argmax(probs, dim=1).item()\n",
    "    return probs[0, predicted_class].item(), predicted_class\n",
    "\n",
    "# Example text extracted from data_dict\n",
    "block_text = \"\"\"\n",
    "Authorizing Certain Transactions Involving the Exportation or Reexportation of\n",
    "Liquefied Petroleum Gas to Venezuela\n",
    "(a) Except as provided in paragraph (b) of this general license, all transactions \n",
    "related to the exportation or reexportation, directly or indirectly, of liquefied petroleum \n",
    "gas to Venezuela, involving the Government of Venezuela, Petróleos de Venezuela, S.A. \n",
    "(PdVSA), or any entity in which PdVSA owns, directly or indirectly, a 50 percent or \n",
    "greater interest, that are prohibited by E.O. 13850 of November 1, 2018, as amended by \n",
    "E.O. 13857 of January 25, 2019, or E.O. 13884 of August 5, 2019, each as incorporated \n",
    "into the Venezuela Sanctions Regulations, 31 CFR part 591 (the VSR), are authorized \n",
    "through 12:01 a.m. eastern daylight time, July 10, 2024.\n",
    "(b) This general license does not authorize:\n",
    "(1) Any payment-in-kind of petroleum or petroleum products; or\n",
    "(2) Any transactions otherwise prohibited by the VSR, including transactions \n",
    "involving any blocked persons other than PdVSA, any entity in which PdVSA owns, \n",
    "directly or indirectly, a 50 percent or greater interest, or any Government of Venezuela \n",
    "person that is blocked solely pursuant to E.O. 13884.\n",
    "\"\"\"\n",
    "probability, predicted_class = predict_block(block_text)\n",
    "print(f\"Predicted class: {predicted_class} (Probability: {probability:.4f})\")\n"
   ]
  },
  {
   "cell_type": "markdown",
   "metadata": {},
   "source": [
    "#### Example: Get snippets for a document by picking the correct blocks"
   ]
  },
  {
   "cell_type": "code",
   "execution_count": 13,
   "metadata": {},
   "outputs": [],
   "source": [
    "def get_regions_for_doc(doc_id, page_index):\n",
    "    regions = []\n",
    "    for idx, block in enumerate(data_dict[doc_id][page_index]['blocks']):\n",
    "        probability, predicted_class = predict_block(block['text'])\n",
    "        print(f\"Block {idx}: Class={predicted_class} ({round(probability*100, 2)}%)\")\n",
    "        if predicted_class == 1:\n",
    "            regions.append((block['text'], probability))\n",
    "    return regions\n",
    "\n",
    "doc_id = '19236880'\n",
    "page_index = '34'\n",
    "regions = get_regions_for_doc(doc_id, page_index)\n",
    "\n",
    "for region in regions:\n",
    "    print(region)"
   ]
  },
  {
   "cell_type": "markdown",
   "metadata": {},
   "source": [
    "## Run Model on Test data and collect predictions in data_dict"
   ]
  },
  {
   "cell_type": "code",
   "execution_count": 9,
   "metadata": {},
   "outputs": [
    {
     "name": "stdout",
     "output_type": "stream",
     "text": [
      "Using device: cuda\n"
     ]
    },
    {
     "data": {
      "application/vnd.jupyter.widget-view+json": {
       "model_id": "181eb2eb25fc4665abb35a5844f26bb2",
       "version_major": 2,
       "version_minor": 0
      },
      "text/plain": [
       "  0%|          | 0/173 [00:00<?, ?it/s]"
      ]
     },
     "metadata": {},
     "output_type": "display_data"
    },
    {
     "name": "stderr",
     "output_type": "stream",
     "text": [
      "Token indices sequence length is longer than the specified maximum sequence length for this model (660 > 512). Running this sequence through the model will result in indexing errors\n"
     ]
    },
    {
     "name": "stdout",
     "output_type": "stream",
     "text": [
      "Total time taken: 140.17 seconds\n"
     ]
    }
   ],
   "source": [
    "import evaluator\n",
    "import importlib\n",
    "importlib.reload(evaluator)\n",
    "import time\n",
    "\n",
    "device = torch.device(\"cuda\" if torch.cuda.is_available() else \"cpu\")\n",
    "print(f\"Using device: {device}\")\n",
    "model = model.to(device)\n",
    "model.eval()\n",
    "\n",
    "# Add snippets to data_dict\n",
    "def predict_batch(text_blocks, batch_size=BATCH_SIZE):\n",
    "    predictions = []\n",
    "    for i in range(0, len(text_blocks), batch_size):\n",
    "        batch = text_blocks[i:i+batch_size]\n",
    "\n",
    "        inputs = tokenizer(batch, return_tensors=\"pt\", padding=True, truncation=True, max_length=512)\n",
    "        inputs = {k: v.to(model.device) for k, v in inputs.items()}\n",
    "\n",
    "        # Get predictions\n",
    "        with torch.no_grad():\n",
    "            outputs = model(**inputs)\n",
    "\n",
    "        probs = torch.nn.functional.softmax(outputs.logits, dim=1)\n",
    "        predicted_classes = torch.argmax(probs, dim=1)\n",
    "        for prob, predicted_class in zip(probs, predicted_classes):\n",
    "            predictions.append((prob[predicted_class].item(), predicted_class.item()))\n",
    "\n",
    "    return predictions\n",
    "\n",
    "# Choose data_dict to process\n",
    "dict_to_process = test_data_dict # (for aml: test_data_dict, else data_dict)\n",
    "\n",
    "total_time = 0\n",
    "for doc_id, pages in tqdm(dict_to_process.items()):\n",
    "    for page_index, page_data in pages.items():\n",
    "        if page_index in ['title', 'doc_long_id']:\n",
    "            continue\n",
    "        segments_or_blocks = []\n",
    "        if USE_GRAPHSEG:\n",
    "            segments_or_blocks = graphseg_data[doc_id][page_index]\n",
    "        else:\n",
    "            segments_or_blocks = [block['text'] for block in page_data['blocks']]\n",
    "\n",
    "        dict_to_process[doc_id][page_index]['predicted_snippets'] = []\n",
    "\n",
    "        # Get predictions for all text blocks in the current page\n",
    "        start_time = time.time()\n",
    "        batch_predictions = predict_batch(segments_or_blocks, 512)\n",
    "        end_time = time.time()\n",
    "        total_time += end_time - start_time\n",
    "\n",
    "        for segment_or_block, (probability, predicted_class) in zip(segments_or_blocks, batch_predictions):\n",
    "            if predicted_class == 1:\n",
    "                dict_to_process[doc_id][page_index]['predicted_snippets'].append({'text': segment_or_block, 'tokenized_text': tokenizer.tokenize(segment_or_block), 'probability': probability})\n",
    "print(f\"Total time taken: {total_time:.2f} seconds\")"
   ]
  },
  {
   "cell_type": "code",
   "execution_count": 10,
   "metadata": {},
   "outputs": [
    {
     "data": {
      "application/vnd.jupyter.widget-view+json": {
       "model_id": "9caa8235b8eb4cad93c4f5591357929d",
       "version_major": 2,
       "version_minor": 0
      },
      "text/plain": [
       "  0%|          | 0/173 [00:00<?, ?it/s]"
      ]
     },
     "metadata": {},
     "output_type": "display_data"
    }
   ],
   "source": [
    "# Get page count\n",
    "page_count = 0\n",
    "for doc_id, pages in tqdm(dict_to_process.items()):\n",
    "    for page_index, page_data in pages.items():\n",
    "        if page_index in ['title', 'doc_long_id']:\n",
    "            continue\n",
    "        page_count += 1"
   ]
  },
  {
   "cell_type": "markdown",
   "metadata": {},
   "source": [
    "### Get evaluation metrics "
   ]
  },
  {
   "cell_type": "code",
   "execution_count": 11,
   "metadata": {},
   "outputs": [
    {
     "data": {
      "text/plain": [
       "<module 'evaluator' from '/home/tlh45/project/code/Model/evaluator.py'>"
      ]
     },
     "execution_count": 11,
     "metadata": {},
     "output_type": "execute_result"
    }
   ],
   "source": [
    "import evaluator\n",
    "import importlib\n",
    "importlib.reload(evaluator)"
   ]
  },
  {
   "cell_type": "code",
   "execution_count": 14,
   "metadata": {},
   "outputs": [
    {
     "name": "stdout",
     "output_type": "stream",
     "text": [
      "DOMAIN='AML'\n",
      "################### PREDICTED GRAPHSEG SEGMENTS ###################\n"
     ]
    }
   ],
   "source": [
    "metrics_config = {\n",
    "    'iou': True,\n",
    "    'bleu': True,\n",
    "    'jaccard': True,\n",
    "    'precision': True,\n",
    "    'recall': True,\n",
    "    'f1': True,\n",
    "    'precision_region_lvl': True,\n",
    "    'recall_region_lvl': True,\n",
    "    'f1_region_lvl': True,\n",
    "    'edit_distance': True,\n",
    "    'rouge-1-f': True,\n",
    "    'rouge-2-f': True,\n",
    "    'rouge-l-f': True,\n",
    "    'pk': False,\n",
    "    'windowdiff': False,\n",
    "    'cohen_kappa': False\n",
    "}\n",
    "\n",
    "print(f\"{DOMAIN=}\")\n",
    "BASE = False\n",
    "\n",
    "# Base allows evaluation of basic components (i.e. perfect blocks and snippets) against regions\n",
    "if BASE:\n",
    "    print(\"################### PERFECT BLOCKS ###################\")\n",
    "    aggregated_metrics_perfectblocks = evaluator.evaluate_snippets_parallel(dict_to_process\n",
    "                                        ,comparison_object=\"blocks\"\n",
    "                                        , config=metrics_config)\n",
    "    print(\"################### SNIPPETS ###################\")\n",
    "    aggregated_metrics_snippets = evaluator.evaluate_snippets_parallel(dict_to_process\n",
    "                                        ,comparison_object=\"snippets\"\n",
    "                                        , config=metrics_config)\n",
    "\n",
    "\n",
    "    \n",
    "print(f'################### PREDICTED {\"GRAPHSEG SEGMENTS\" if USE_GRAPHSEG else \"BLOCKS\"} ###################')\n",
    "aggregated_metrics_predicted_snippets = evaluator.evaluate_snippets_parallel(dict_to_process\n",
    "                                     ,comparison_object=\"predicted_snippets\"\n",
    "                                     , config=metrics_config)\n",
    "aggregated_metrics_predicted_snippets['inference_time'] = total_time + 805.1935110092163 if USE_GRAPHSEG else total_time # add time for graphseg\n",
    "aggregated_metrics_predicted_snippets['pages'] = page_count\n",
    "aggregated_metrics_predicted_snippets['batch_size'] = BATCH_SIZE\n",
    "aggregated_metrics_predicted_snippets['GPU'] = torch.cuda.get_device_properties(0).name"
   ]
  },
  {
   "cell_type": "code",
   "execution_count": 15,
   "metadata": {},
   "outputs": [],
   "source": [
    "# Save evaluation results\n",
    "if BASE:\n",
    "    with open(f\"Evaluation/{DOMAIN}/perfectblocks_eval_final.json\", 'w') as f:\n",
    "        json.dump(aggregated_metrics_perfectblocks, f, indent=4)\n",
    "\n",
    "    with open(f\"Evaluation/{DOMAIN}/snippets_eval_final.json\", 'w') as f:\n",
    "        json.dump(aggregated_metrics_snippets, f, indent=4)\n",
    "\n",
    "with open(f\"Evaluation/{DOMAIN}/{'graphseg' if USE_GRAPHSEG else 'blocks'}_eval_final_{PRETRAINED_MODEL}.json\", 'w') as f:\n",
    "    json.dump(aggregated_metrics_predicted_snippets, f, indent=4)"
   ]
  },
  {
   "cell_type": "markdown",
   "metadata": {},
   "source": [
    "#### Collect time it takes to create snippets"
   ]
  },
  {
   "cell_type": "code",
   "execution_count": 27,
   "metadata": {},
   "outputs": [
    {
     "data": {
      "application/vnd.jupyter.widget-view+json": {
       "model_id": "102900a4a1f44b508de4e5549c66c547",
       "version_major": 2,
       "version_minor": 0
      },
      "text/plain": [
       "  0%|          | 0/173 [00:00<?, ?it/s]"
      ]
     },
     "metadata": {},
     "output_type": "display_data"
    }
   ],
   "source": [
    "from Snippet_Code import node_utils # import snippeting algorith here (not included here due to confidentiality)\n",
    "snippets_time = 0\n",
    "for doc_id, pages in tqdm(dict_to_process.items()):\n",
    "    for page_index, page_data in pages.items():\n",
    "        if page_index in ['title', 'doc_long_id']:\n",
    "            continue\n",
    "        full_page_text = page_data['full_text']\n",
    "        start_time = time.time()\n",
    "        snippets, snippet_character_type = node_utils.split_page_into_snippets(full_page_text, page_index)\n",
    "        end_time = time.time()\n",
    "        snippets_time += end_time - start_time\n",
    "print(snippets_time)"
   ]
  },
  {
   "cell_type": "code",
   "execution_count": 28,
   "metadata": {},
   "outputs": [
    {
     "name": "stdout",
     "output_type": "stream",
     "text": [
      "Total time taken: 172.6988410949707 seconds\n"
     ]
    }
   ],
   "source": [
    "print(f\"Total time taken: {snippets_time} seconds\")"
   ]
  }
 ],
 "metadata": {
  "kernelspec": {
   "display_name": ".venv",
   "language": "python",
   "name": "python3"
  },
  "language_info": {
   "codemirror_mode": {
    "name": "ipython",
    "version": 3
   },
   "file_extension": ".py",
   "mimetype": "text/x-python",
   "name": "python",
   "nbconvert_exporter": "python",
   "pygments_lexer": "ipython3",
   "version": "3.11.5"
  }
 },
 "nbformat": 4,
 "nbformat_minor": 2
}
